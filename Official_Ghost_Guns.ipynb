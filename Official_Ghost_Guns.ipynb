{
  "cells": [
    {
      "cell_type": "markdown",
      "metadata": {
        "id": "GqGktn24hXlC"
      },
      "source": [
        "# California Recovered Ghost Guns"
      ]
    },
    {
      "cell_type": "markdown",
      "metadata": {
        "id": "kyntHZOsiPzW"
      },
      "source": [
        "The public data set, `a_ghost_guns_by_county_monthly.csv`, last updated July 2025, was acquired from the California Department of Justice data provided by the Gun Violence Data Hub.\n",
        "\n"
      ]
    },
    {
      "cell_type": "code",
      "execution_count": null,
      "metadata": {
        "id": "ruPMP7HM-Inh"
      },
      "outputs": [],
      "source": [
        "import pandas as pd\n",
        "import plotly.express as px\n",
        "import plotly.graph_objects as go\n",
        "from plotly.subplots import make_subplots\n",
        "import json\n",
        "import geopandas as gpd\n",
        "from os import name\n",
        "\n",
        "from sklearn.linear_model import LinearRegression\n",
        "import statsmodels.api as sm\n",
        "import numpy as np"
      ]
    },
    {
      "cell_type": "markdown",
      "metadata": {
        "id": "h5FvkvfZhiEE"
      },
      "source": [
        "# Reformating the Data Frame"
      ]
    },
    {
      "cell_type": "code",
      "execution_count": null,
      "metadata": {
        "id": "f1smpWDChh1t"
      },
      "outputs": [],
      "source": [
        "og = pd.read_csv(\"/content/ca_ghost_guns_by_county_monthly.csv\")\n",
        "\n",
        "# CHANGE TYPE from date to date-time\n",
        "og[\"year_month\"] = pd.to_datetime(og[\"year_month\"])\n"
      ]
    },
    {
      "cell_type": "markdown",
      "metadata": {
        "id": "yjkw6RHQjfn2"
      },
      "source": [
        "### Add column for percentage of ghost guns recovered, and make a quarterly and yearly level of the `og`"
      ]
    },
    {
      "cell_type": "code",
      "execution_count": null,
      "metadata": {
        "collapsed": true,
        "id": "Q9mwbySsjxAS"
      },
      "outputs": [],
      "source": [
        "# MONTHLY - ca_monthly (2010-2025)\n",
        "ca_monthly = og.groupby([\"year\", \"year_month\"], as_index=False).agg({\"total_crime_guns\":\"sum\", \"ghost_guns\":\"sum\"})\n",
        "ca_monthly[\"pct_gg_recovered\"] = ((ca_monthly[\"ghost_guns\"]/ca_monthly[\"total_crime_guns\"])*100).round(2)\n",
        "\n",
        "# YEARLY Total Crimes and Ghost Guns - ca_yearly (2010-2024)\n",
        "ca_yearly = og.groupby(\"year\", as_index=False).agg({\"total_crime_guns\":\"sum\", \"ghost_guns\":\"sum\"})\n",
        "ca_yearly = ca_yearly[(ca_yearly[\"year\"] < 2025)]\n",
        "ca_yearly[\"pct_gg_recovered\"] = ((ca_yearly[\"ghost_guns\"]/ca_yearly[\"total_crime_guns\"])*100).round(2)\n"
      ]
    },
    {
      "cell_type": "markdown",
      "metadata": {
        "id": "dNwINyqClgFk"
      },
      "source": [
        "### Add Ghost Guns per 100k on a County Level for `ca_yearly`"
      ]
    },
    {
      "cell_type": "markdown",
      "metadata": {
        "id": "OANCBVg3m9Vh"
      },
      "source": [
        "Adding a Ghost Guns Recovered per 100,000 Population column to the `og` df.\n",
        "\n",
        "Rateper100,000=(NumberofCases/PopulationSize)∗100,000"
      ]
    },
    {
      "cell_type": "code",
      "execution_count": null,
      "metadata": {
        "id": "3Sb17GjVl8ei"
      },
      "outputs": [],
      "source": [
        "# GROUPBY County, Year and Population, TOT of Gun Related Crims and Ghost Guns Recovered\n",
        "county = og.groupby([\"county\", \"year\", \"population\"], as_index=False).agg({\"total_crime_guns\":\"sum\", \"ghost_guns\":\"sum\"})\n",
        "county = county[(county[\"year\"] < 2025)]\n",
        "\n",
        "# MAKE NEW COLUMN - Ghost Guns per 100k\n",
        "county[\"ghost_guns_per_100k\"] = (county[\"ghost_guns\"] / county[\"population\"]) * 100000\n",
        "county[\"ghost_guns_per_100k\"] = county[\"ghost_guns_per_100k\"].round(2)"
      ]
    },
    {
      "cell_type": "markdown",
      "metadata": {
        "id": "t0MR-BCVba7a"
      },
      "source": [
        "### Export all Data Frames"
      ]
    },
    {
      "cell_type": "code",
      "execution_count": null,
      "metadata": {
        "id": "3RmlzWHzLq0_"
      },
      "outputs": [],
      "source": [
        "# EXPORT\n",
        "# except og\n",
        "ca_monthly.to_csv(\"ca_monthly.csv\", index=False)\n",
        "ca_yearly.to_csv(\"ca_yearly.csv\", index=False)\n",
        "county.to_csv(\"county.csv\", index=False)"
      ]
    },
    {
      "cell_type": "markdown",
      "metadata": {
        "id": "3aKoC43YsuiU"
      },
      "source": [
        "# Graphs"
      ]
    },
    {
      "cell_type": "markdown",
      "metadata": {
        "id": "eetbu0W_oGMj"
      },
      "source": [
        "### Monthly Subplots"
      ]
    },
    {
      "cell_type": "code",
      "execution_count": null,
      "metadata": {
        "colab": {
          "base_uri": "https://localhost:8080/",
          "height": 717
        },
        "id": "LpjOxwSNoH_r",
        "outputId": "f1484da6-b97a-4c9e-aae0-26929e0c06f4"
      },
      "outputs": [],
      "source": [
        "# make_subplot()\n",
        "subplot_monthly = make_subplots(rows=2, cols=1,\n",
        "                                  shared_xaxes=True,\n",
        "                                  vertical_spacing=0.15,\n",
        "                                  subplot_titles=(\"Crime Guns Recovered\", \"Ghost Guns Recovered\"),\n",
        "                                  x_title=\"Year\",\n",
        "                                  y_title=\"Total Recovered\"\n",
        "                                  )\n",
        "\n",
        "# ADD CRIME GUNS to subplot\n",
        "subplot_monthly.add_trace(go.Scatter(x=ca_monthly[\"year_month\"],\n",
        "                                       y=ca_monthly[\"total_crime_guns\"],\n",
        "                                       name=\"Crime Guns\",\n",
        "                                       mode=\"lines\",\n",
        "                                       showlegend=False,\n",
        "                                       xaxis=\"x\"\n",
        "                                       ),\n",
        "\n",
        "                          row=1, col=1\n",
        "                          )\n",
        "\n",
        "# ADD GHOST GUNS to subplot\n",
        "subplot_monthly.add_trace(go.Scatter(x=ca_monthly[\"year_month\"],\n",
        "                                       y=ca_monthly[\"ghost_guns\"],\n",
        "                                       name=\"Ghost Guns\",\n",
        "                                       mode=\"lines\",\n",
        "                                       showlegend=False,\n",
        "                                       xaxis=\"x\"\n",
        "                                       ),\n",
        "                          row=2, col=1\n",
        "                          )\n",
        "\n",
        "# UPDATE LAYOUT\n",
        "subplot_monthly.update_layout(title_text=\"Crimes Guns and Ghost Guns Recovered Monthly in California\",\n",
        "                                title_subtitle_text=\"From 2010 to 2025\",\n",
        "                                plot_bgcolor=\"white\",\n",
        "                                hoverlabel=dict(bgcolor=\"white\",\n",
        "                                                bordercolor=\"black\",\n",
        "                                                font_color=\"black\"\n",
        "                                                ),\n",
        "                                hoversubplots=\"axis\",\n",
        "                                hovermode=\"x unified\",\n",
        "                                width=700,\n",
        "                                height=700\n",
        "                                )\n",
        "\n",
        "subplot_monthly.update_xaxes(showline=True,\n",
        "                              linewidth=1,\n",
        "                              linecolor=\"black\",\n",
        "                              gridcolor=\"lightgray\",\n",
        "                              griddash=\"solid\",\n",
        "                              )\n",
        "\n",
        "subplot_monthly.update_yaxes(showline=True,\n",
        "                     linewidth=1,\n",
        "                     linecolor=\"black\",\n",
        "                     gridcolor=\"lightgray\",\n",
        "                     griddash=\"solid\"\n",
        "                     )\n",
        "\n",
        "subplot_monthly.show()"
      ]
    },
    {
      "cell_type": "markdown",
      "metadata": {
        "id": "mt0HV9VcpTCN"
      },
      "source": [
        "### Yearly Subplots"
      ]
    },
    {
      "cell_type": "code",
      "execution_count": null,
      "metadata": {
        "colab": {
          "base_uri": "https://localhost:8080/",
          "height": 717
        },
        "id": "tyMRYVbppVAu",
        "outputId": "c89e2d30-63fd-402e-cc65-26b4c71c8492"
      },
      "outputs": [],
      "source": [
        "# make_subplot()\n",
        "subplot_yearly = make_subplots(rows=2, cols=1,\n",
        "                                  shared_xaxes=True,\n",
        "                                  vertical_spacing=0.15,\n",
        "                                  subplot_titles=(\"Crime Guns Recovered\", \"Ghost Guns Recovered\"),\n",
        "                                  x_title=\"Year\",\n",
        "                                  y_title=\"Total Recovered\"\n",
        "                                  )\n",
        "\n",
        "# ADD CRIME GUNS to subplot\n",
        "subplot_yearly.add_trace(go.Scatter(x=ca_yearly[\"year\"],\n",
        "                                       y=ca_yearly[\"total_crime_guns\"],\n",
        "                                       name=\"Crime Guns\",\n",
        "                                       mode=\"lines+markers\",\n",
        "                                       showlegend=False,\n",
        "                                       xaxis=\"x\"\n",
        "                                       ),\n",
        "\n",
        "                          row=1, col=1\n",
        "                          )\n",
        "\n",
        "# ADD GHOST GUNS to subplot\n",
        "subplot_yearly.add_trace(go.Scatter(x=ca_yearly[\"year\"],\n",
        "                                       y=ca_yearly[\"ghost_guns\"],\n",
        "                                       name=\"Ghost Guns\",\n",
        "                                       mode=\"lines+markers\",\n",
        "                                       showlegend=False,\n",
        "                                       xaxis=\"x\"\n",
        "                                       ),\n",
        "                          row=2, col=1\n",
        "                          )\n",
        "\n",
        "# UPDATE LAYOUT\n",
        "subplot_yearly.update_layout(title_text=\"Crimes Guns and Ghost Guns Recovered Yearly in California\",\n",
        "                                title_subtitle_text=\"From 2010 to 2025\",\n",
        "                                plot_bgcolor=\"white\",\n",
        "                                hoverlabel=dict(bgcolor=\"white\",\n",
        "                                                bordercolor=\"black\",\n",
        "                                                font_color=\"black\"\n",
        "                                                ),\n",
        "                                hoversubplots=\"axis\",\n",
        "                                hovermode=\"x unified\",\n",
        "                                width=700,\n",
        "                                height=700\n",
        "                                )\n",
        "\n",
        "subplot_yearly.update_xaxes(showline=True,\n",
        "                            linewidth=1,\n",
        "                            linecolor=\"black\",\n",
        "                            gridcolor=\"lightgray\",\n",
        "                            griddash=\"solid\",\n",
        "                            range=[2010,2025]\n",
        "                              )\n",
        "\n",
        "subplot_yearly.update_yaxes(showline=True,\n",
        "                     linewidth=1,\n",
        "                     linecolor=\"black\",\n",
        "                     gridcolor=\"lightgray\",\n",
        "                     griddash=\"solid\"\n",
        "                     )\n",
        "\n",
        "subplot_yearly.show()"
      ]
    },
    {
      "cell_type": "markdown",
      "metadata": {
        "id": "YSYnXs-8Gba2"
      },
      "source": [
        "## Choropleth Map - County Level, Yearly"
      ]
    },
    {
      "cell_type": "markdown",
      "metadata": {
        "id": "HkNqyB_tHBUs"
      },
      "source": [
        "The geoJSON file of California Counties was acquired from [State of California Open Data](https://lab.data.ca.gov/dataset/california-counties2)."
      ]
    },
    {
      "cell_type": "code",
      "execution_count": null,
      "metadata": {
        "collapsed": true,
        "id": "CpGegXSpGhjR"
      },
      "outputs": [],
      "source": [
        "# READ geoJSON file with geopandas\n",
        "map = gpd.read_file(\"/content/California_Counties.geojson\")\n",
        "\n",
        "# FIX the \"NAME\" column of map by removing \"county\" from the ends of county names\n",
        "map[\"NAME\"] = map[\"NAME\"].str.replace(\" County\",\"\")\n",
        "\n",
        "# MERGE county with map\n",
        "final_county = map.merge(county, left_on=\"NAME\", right_on=\"county\", how=\"left\")\n",
        "\n",
        "# CONVERT geopandas read file to GeoJSON for plotly\n",
        "map_json = json.loads(map.to_json())"
      ]
    },
    {
      "cell_type": "code",
      "execution_count": null,
      "metadata": {
        "colab": {
          "base_uri": "https://localhost:8080/",
          "height": 542
        },
        "id": "WDQADrvrXw5w",
        "outputId": "69445b58-8317-4f3e-edaf-e634a3c19786"
      },
      "outputs": [],
      "source": [
        "#### PLOT choropleth\n",
        "\n",
        "# Add population to the hover data\n",
        "\n",
        "fig5 = px.choropleth(\n",
        "    final_county,\n",
        "    geojson=map_json,\n",
        "    locations=\"NAME\", # not indexed\n",
        "    featureidkey=\"properties.NAME\",\n",
        "    color=\"ghost_guns_per_100k\",\n",
        "    animation_frame=\"year\",\n",
        "    animation_group=\"county\",\n",
        "    range_color=[0, 80],\n",
        "    color_continuous_scale=\"ylorrd\",\n",
        "    projection=\"mercator\",\n",
        "    fitbounds=\"locations\",\n",
        "    basemap_visible=False,\n",
        "    labels={\n",
        "        \"year\":\"Year\",\n",
        "        \"NAME\":\"County\",\n",
        "        \"ghost_guns_per_100k\":\"Ghost Guns per 100k\"\n",
        "        }\n",
        "    )\n",
        "\n",
        "# AESTHETICS\n",
        "fig5.update_layout(\n",
        "    title_text=\"Ghost Guns per 100,000 People\",\n",
        "    title_subtitle_text=\"Recovered Ghost Guns per 100,000 People in California Counties Each Year\",\n",
        "    legend_title_side=\"top center\"\n",
        "\n",
        ")\n",
        "\n",
        "fig5.show()"
      ]
    },
    {
      "cell_type": "markdown",
      "metadata": {
        "id": "o1gx90PvzZKn"
      },
      "source": [
        "# Statistical Analysis - WIP"
      ]
    },
    {
      "cell_type": "markdown",
      "metadata": {
        "id": "TYZVWtbPzoic"
      },
      "source": [
        "1. Ratio / Proportion Analysis\n",
        "2. Regression Discontinuity"
      ]
    },
    {
      "cell_type": "markdown",
      "metadata": {
        "id": "UOsfkyZU3eFU"
      },
      "source": [
        "### Ratio / Proportional Anlysis"
      ]
    },
    {
      "cell_type": "code",
      "execution_count": null,
      "metadata": {
        "id": "lffdweAbzawI"
      },
      "outputs": [],
      "source": [
        "ratio_quarterly = px.line(ca_monthly, x=\"year_month\",\n",
        "                          y=\"pct_gg_recovered\",\n",
        "                          title=\"Percentage Recovered Ghost Guns to Crime Guns\",\n",
        "                          labels={\"pct_gg_recovered\":\"Percentage of Ghost Guns (%)\",\n",
        "                                  \"quarter\": \"Quarter \",\n",
        "                                  \"quarter\":\"Year (Quarters)\"\n",
        "                                  }\n",
        "                          )\n",
        "\n",
        "ratio_quarterly.update_layout(title_subtitle_text=\"From 2010 to 2025\",\n",
        "                              plot_bgcolor=\"white\",\n",
        "                              hovermode=\"x unified\"\n",
        "                              )\n",
        "ratio_quarterly.update_xaxes(griddash=\"solid\",\n",
        "                             gridcolor=\"lightgray\",\n",
        "                             linecolor=\"black\"\n",
        "                            )\n",
        "ratio_quarterly.update_yaxes(gridcolor=\"lightgray\",\n",
        "                             griddash=\"solid\",\n",
        "                             linecolor=\"black\"\n",
        "                             )\n",
        "\n",
        "ratio_quarterly.show()"
      ]
    },
    {
      "cell_type": "markdown",
      "metadata": {
        "id": "1wIZnA_fEhEv"
      },
      "source": [
        "### Regression Discontinuity without Total Crime Guns and Linear Regression"
      ]
    },
    {
      "cell_type": "code",
      "execution_count": null,
      "metadata": {
        "id": "c85ARy8TEhE0"
      },
      "outputs": [],
      "source": [
        "# REGRESSION DISCONTINUITY\n",
        "\n",
        "## NUMERIC TIME VARIABLE\n",
        "analysis = ca_monthly[ca_monthly[\"year_month\"] >= \"2021-01-01\"].copy()\n",
        "analysis[\"month_index\"] = (analysis[\"year_month\"].dt.year - 2021) * 12 + analysis[\"year_month\"].dt.month\n",
        "\n",
        "policy = pd.to_datetime(\"2022-08-01\")\n",
        "policy_index = analysis.loc[analysis[\"year_month\"] == policy, \"month_index\"].values[0]\n",
        "\n",
        "## TREATMENT INDICATOR\n",
        "analysis[\"post\"] = (analysis[\"month_index\"] > policy_index).astype(int)\n",
        "\n",
        "## RUNNING VARIABLE\n",
        "analysis[\"running\"] = analysis[\"month_index\"] - policy_index\n",
        "\n",
        "X = pd.DataFrame({\"running\": analysis[\"running\"],\n",
        "                  \"post\": analysis[\"post\"],\n",
        "                  \"interaction\": analysis[\"running\"] * analysis[\"post\"],\n",
        "                })\n",
        "y = analysis[\"ghost_guns\"]\n",
        "\n",
        "model = LinearRegression()\n",
        "model.fit(X, y)\n",
        "\n",
        "print(\"Coefficients:\")\n",
        "for name, coef in zip(X.columns, model.coef_):\n",
        "    print(f\"{name}: {coef:.3f}\")\n",
        "print(f\"Intercept: {model.intercept_:.3f}\")\n",
        "\n",
        "## Predicted values for plotting\n",
        "analysis['pred'] = model.predict(X)\n",
        "\n",
        "## Pre/Post Policy with Ghost Guns\n",
        "pre = analysis[analysis[\"year_month\"] <= \"2022-08-01\"].copy()\n",
        "post = analysis[analysis[\"year_month\"] > \"2022-08-01\"].copy()"
      ]
    },
    {
      "cell_type": "code",
      "execution_count": null,
      "metadata": {
        "collapsed": true,
        "id": "OMK43j5gEhE2"
      },
      "outputs": [],
      "source": [
        "# LINEAR REGRESSION for Total Crime Guns\n",
        "\n",
        "analysis_totgun = ca_monthly[ca_monthly[\"year_month\"] >= \"2021-01-01\"].copy()\n",
        "analysis_totgun['month_index'] = (analysis_totgun['year_month'].dt.year - 2021) * 12 + (analysis_totgun['year_month'].dt.month - 1)\n",
        "\n",
        "X = analysis_totgun[\"month_index\"].values.reshape(-1, 1) # Reshape X to be 2-dimensional (WHY)\n",
        "y = analysis_totgun[\"total_crime_guns\"]\n",
        "\n",
        "model = LinearRegression()\n",
        "model.fit(X, y)\n",
        "\n",
        "print(f\"Intercept: {model.intercept_:.3f}\")\n",
        "print(f\"Slope: {model.coef_[0]:.3f}\")\n",
        "\n",
        "x_range = np.linspace(analysis_totgun['month_index'].min(), analysis_totgun['month_index'].max(), 200).reshape(-1, 1)\n",
        "y_pred = model.predict(x_range)\n",
        "\n",
        "# Calculate the date range by adding the equivalent number of days\n",
        "start_date = pd.to_datetime('2021-01-01')\n",
        "date_range = start_date + pd.to_timedelta(x_range.flatten() * 30.44, unit='D') # Approximate number of days in a month"
      ]
    },
    {
      "cell_type": "code",
      "execution_count": null,
      "metadata": {
        "id": "LIVW4KNXEhE3"
      },
      "outputs": [],
      "source": [
        "# Graphing\n",
        "subplot_analysis = make_subplots(rows=2, cols=1,\n",
        "                                 shared_xaxes=True,\n",
        "                                 vertical_spacing=0.1,\n",
        "                                 subplot_titles=(\"Crime Guns Recovered\", \"Ghost Guns Recovered\"),\n",
        "                                 x_title=\"Year (Monthly)\",\n",
        "                                 y_title=\"Total Recovered\"\n",
        "                                )\n",
        "\n",
        "## Crime Guns\n",
        "subplot_analysis.add_trace(go.Scatter(x=ca_monthly[\"year_month\"],\n",
        "                                      y=ca_monthly[\"total_crime_guns\"],\n",
        "                                      name=\"Crime Guns\",\n",
        "                                      mode=\"lines\",\n",
        "                                      showlegend=False,\n",
        "                                      xaxis=\"x\",\n",
        "                                      line_color=\"black\"\n",
        "                                      ),\n",
        "                          row=1, col=1)\n",
        "### Linear Regression\n",
        "subplot_analysis.add_trace(go.Scatter(x=date_range,\n",
        "                                      y=y_pred,\n",
        "                                      mode='lines',\n",
        "                                      name='Linear Fit',\n",
        "                                      line_color=\"Red\",\n",
        "                                      hovertemplate = \"slope: -17.879\"\n",
        "                                      ),\n",
        "                           row=1, col=1\n",
        "                          )\n",
        "\n",
        "# Ghost Guns\n",
        "subplot_analysis.add_trace(go.Scatter(x=ca_monthly[\"year_month\"],\n",
        "                                      y=ca_monthly[\"ghost_guns\"],\n",
        "                                      name=\"Ghost Guns\",\n",
        "                                      mode=\"lines\",\n",
        "                                      showlegend=False,\n",
        "                                      line_color=\"black\"\n",
        "                                      ),\n",
        "                           row=2, col=1\n",
        "                          )\n",
        "\n",
        "### Regression Discontinuity\n",
        "subplot_analysis.add_trace(go.Scatter(x=pre['year_month'],\n",
        "                                      y=pre['pred'],\n",
        "                                      mode='lines',\n",
        "                                      name='Pre-Policy Fitted (RD)',\n",
        "                                      line=dict(color='Tomato',width=2),\n",
        "                                      hovertemplate = \"slope: -0.070\"\n",
        "                                     ),\n",
        "                           row=2, col=1\n",
        "                          )\n",
        "subplot_analysis.add_trace(go.Scatter(x=post['year_month'],\n",
        "                                      y=post['pred'],\n",
        "                                      mode='lines',\n",
        "                                      name='Post-Policy Fitted (RD)',\n",
        "                                      hovertemplate = \"slope: -102.225\",\n",
        "                                      line=dict(color='RoyalBlue',width=2),\n",
        "                                     ),\n",
        "                           row=2, col=1\n",
        "                          )\n",
        "\n",
        "\n",
        "# Aesthetics\n",
        "subplot_analysis.add_vline(x=pd.to_datetime(\"08-01-2022\"),\n",
        "                           line_width=1, line_dash=\"dot\",\n",
        "                           line_color=\"black\",\n",
        "                           )\n",
        "\n",
        "subplot_analysis.update_layout(title_text=\"Crimes Guns and Ghost Guns Recovered Monthly in California\",\n",
        "                                title_subtitle_text=\"From 2010 to 2025\",\n",
        "                                plot_bgcolor=\"White\",\n",
        "                                hoverlabel=dict(bgcolor=\"white\",\n",
        "                                                bordercolor=\"black\",\n",
        "                                                font_color=\"black\"\n",
        "                                                ),\n",
        "                                hoversubplots=\"single\",\n",
        "                                hovermode=\"x unified\",\n",
        "                                width=1000,\n",
        "                                height=800\n",
        "                                )\n",
        "\n",
        "subplot_analysis.update_xaxes(showline=True,\n",
        "                              linewidth=1,\n",
        "                              linecolor=\"Black\",\n",
        "                              gridcolor=\"MistyRose\",\n",
        "                              griddash=\"solid\",\n",
        "                              )\n",
        "\n",
        "subplot_analysis.update_yaxes(showline=True,\n",
        "                     linewidth=1,\n",
        "                     linecolor=\"Black\",\n",
        "                     gridcolor=\"MistyRose\",\n",
        "                     griddash=\"solid\"\n",
        "                     )\n"
      ]
    },
    {
      "cell_type": "markdown",
      "metadata": {
        "id": "cIn4saTj3kNN"
      },
      "source": [
        "### Regression Discontinuity without Total Crime Guns"
      ]
    },
    {
      "cell_type": "code",
      "execution_count": null,
      "metadata": {
        "colab": {
          "base_uri": "https://localhost:8080/"
        },
        "id": "CcqcS6YASOLI",
        "outputId": "d86ba5a3-ebb5-4eed-b7b4-6f1da0d3f54a"
      },
      "outputs": [],
      "source": [
        "# REGRESSION DISCONTINUITY with scikitlearn\n",
        "\n",
        "## NUMERIC TIME VARIABLE\n",
        "analysis = ca_monthly[ca_monthly[\"year_month\"] >= \"2021-01-01\"].copy()\n",
        "analysis[\"month_index\"] = (analysis[\"year_month\"].dt.year - 2021) * 12 + analysis[\"year_month\"].dt.month\n",
        "\n",
        "policy = pd.to_datetime(\"2022-08-01\")\n",
        "policy_index = analysis.loc[analysis[\"year_month\"] == policy, \"month_index\"].values[0]\n",
        "\n",
        "## TREATMENT INDICATOR\n",
        "analysis[\"post\"] = (analysis[\"month_index\"] > policy_index).astype(int)\n",
        "\n",
        "## RUNNING VARIABLE\n",
        "analysis[\"running\"] = analysis[\"month_index\"] - policy_index\n",
        "\n",
        "X = pd.DataFrame({\"running\": analysis[\"running\"],\n",
        "                  \"post\": analysis[\"post\"],\n",
        "                  \"interaction\": analysis[\"running\"] * analysis[\"post\"],\n",
        "                })\n",
        "y = analysis[\"ghost_guns\"]\n",
        "\n",
        "\n",
        "## Add constant for intercept\n",
        "X = sm.add_constant(X)\n",
        "\n",
        "## Fit OLS model\n",
        "ols_model = sm.OLS(y, X).fit()\n",
        "\n",
        "## Print full regression summary (includes p-values & SE)\n",
        "print(ols_model.summary())\n",
        "\n",
        "## Predicted values for plotting\n",
        "analysis['pred'] = ols_model.predict(X)\n",
        "\n",
        "## Pre/Post Policy with Ghost Guns\n",
        "pre = analysis[analysis[\"year_month\"] <= \"2022-08-01\"].copy()\n",
        "post = analysis[analysis[\"year_month\"] > \"2022-08-01\"].copy()\n",
        "\n"
      ]
    },
    {
      "cell_type": "code",
      "execution_count": null,
      "metadata": {
        "colab": {
          "base_uri": "https://localhost:8080/"
        },
        "id": "yEnGM8kUevlH",
        "outputId": "a2469a9d-056f-412f-f04e-acc76f508839"
      },
      "outputs": [],
      "source": [
        "ols_model_robust = ols_model.get_robustcov_results(cov_type='HC1')\n",
        "print(ols_model_robust.summary())"
      ]
    },
    {
      "cell_type": "code",
      "execution_count": null,
      "metadata": {
        "colab": {
          "base_uri": "https://localhost:8080/",
          "height": 542
        },
        "id": "OaIeu4-X63DD",
        "outputId": "a44f61aa-678a-4b5d-905c-edca33c52a5c"
      },
      "outputs": [],
      "source": [
        "# Graphing\n",
        "subplot_analysis = go.Figure()\n",
        "# Ghost Guns\n",
        "subplot_analysis.add_trace(go.Scatter(x=ca_monthly[\"year_month\"],\n",
        "                                      y=ca_monthly[\"ghost_guns\"],\n",
        "                                      name=\"Ghost Guns\",\n",
        "                                      mode=\"lines\",\n",
        "                                      showlegend=False,\n",
        "                                      line_color=\"black\"\n",
        "                                      )\n",
        "                          )\n",
        "\n",
        "### Regression Discontinuity\n",
        "subplot_analysis.add_trace(go.Scatter(x=pre['year_month'],\n",
        "                                      y=pre['pred'],\n",
        "                                      mode='lines',\n",
        "                                      name='Pre-Policy Fitted (RD)',\n",
        "                                      line=dict(color='Tomato',width=2),\n",
        "                                      #hovertemplate = \"slope: -0.070\"\n",
        "                                     )\n",
        "                          )\n",
        "subplot_analysis.add_trace(go.Scatter(x=post['year_month'],\n",
        "                                      y=post['pred'],\n",
        "                                      mode='lines',\n",
        "                                      name='Post-Policy Fitted (RD)',\n",
        "                                      #hovertemplate = \"slope: -102.225\",\n",
        "                                      line=dict(color='RoyalBlue',width=2),\n",
        "                                     )\n",
        "                          )\n",
        "\n",
        "# Aesthetics\n",
        "subplot_analysis.add_vline(x=pd.to_datetime(\"08-01-2022\"),\n",
        "                           line_width=1, line_dash=\"dot\",\n",
        "                           line_color=\"black\",\n",
        "                           )\n",
        "\n",
        "subplot_analysis.update_layout(title_text=\"Crimes Guns and Ghost Guns Recovered Monthly in California\",\n",
        "                                title_subtitle_text=\"From 2010 to 2025\",\n",
        "                                plot_bgcolor=\"White\",\n",
        "                                hoverlabel=dict(bgcolor=\"white\",\n",
        "                                                bordercolor=\"black\",\n",
        "                                                font_color=\"black\"\n",
        "                                                ),\n",
        "                                #hoversubplots=\"single\",\n",
        "                                hovermode=\"x unified\",\n",
        "                                )\n",
        "\n",
        "subplot_analysis.update_xaxes(title=\"Time (Monthly)\",\n",
        "                              showline=True,\n",
        "                              linewidth=1,\n",
        "                              linecolor=\"Black\",\n",
        "                              gridcolor=\"MistyRose\",\n",
        "                              griddash=\"solid\",\n",
        "                              )\n",
        "\n",
        "subplot_analysis.update_yaxes(title=\"Total Recovered Ghost Guns\",\n",
        "                              showline=True,\n",
        "                              linewidth=1,\n",
        "                              linecolor=\"Black\",\n",
        "                              gridcolor=\"MistyRose\",\n",
        "                              griddash=\"solid\"\n",
        "                              )\n"
      ]
    },
    {
      "cell_type": "markdown",
      "metadata": {
        "id": "ZOqsBDbTpiJW"
      },
      "source": [
        "### Regression Discontinuity with Total Crime Guns"
      ]
    },
    {
      "cell_type": "code",
      "execution_count": null,
      "metadata": {
        "colab": {
          "base_uri": "https://localhost:8080/"
        },
        "collapsed": true,
        "id": "BGTG1gknpiJc",
        "outputId": "8c068ec8-86aa-4b75-d8cd-d03c86cd963c"
      },
      "outputs": [],
      "source": [
        "# REGRESSION DISCONTINUITY with scikitlearn\n",
        "\n",
        "## NUMERIC TIME VARIABLE\n",
        "analysis = ca_monthly[ca_monthly[\"year_month\"] >= \"2021-01-01\"].copy()\n",
        "analysis[\"month_index\"] = (analysis[\"year_month\"].dt.year - 2021) * 12 + analysis[\"year_month\"].dt.month\n",
        "\n",
        "policy = pd.to_datetime(\"2022-08-01\")\n",
        "policy_index = analysis.loc[analysis[\"year_month\"] == policy, \"month_index\"].values[0]\n",
        "\n",
        "## TREATMENT INDICATOR\n",
        "analysis[\"post\"] = (analysis[\"month_index\"] > policy_index).astype(int)\n",
        "\n",
        "## RUNNING VARIABLE\n",
        "analysis[\"running\"] = analysis[\"month_index\"] - policy_index\n",
        "\n",
        "X = pd.DataFrame({\"running\": analysis[\"running\"],\n",
        "                  \"post\": analysis[\"post\"],\n",
        "                  \"interaction\": analysis[\"running\"] * analysis[\"post\"],\n",
        "                  \"total_crime_guns\": analysis[\"total_crime_guns\"]\n",
        "                })\n",
        "y = analysis[\"ghost_guns\"]\n",
        "\n",
        "\n",
        "## Add constant for intercept\n",
        "X = sm.add_constant(X)\n",
        "\n",
        "## Fit OLS model\n",
        "ols_model = sm.OLS(y, X).fit()\n",
        "\n",
        "## Print full regression summary (includes p-values & SE)\n",
        "print(ols_model.summary())\n",
        "\n",
        "## Predicted values for plotting\n",
        "analysis['pred'] = ols_model.predict(X)\n",
        "\n",
        "## Pre/Post Policy with Ghost Guns\n",
        "pre = analysis[analysis[\"year_month\"] <= \"2022-08-01\"].copy()\n",
        "post = analysis[analysis[\"year_month\"] > \"2022-08-01\"].copy()\n",
        "\n",
        "running_pre = np.linspace(pre[\"running\"].min(), 0, 50)\n",
        "running_post = np.linspace(0, post[\"running\"].max(), 50)\n",
        "\n",
        "# Map running variable back to dates\n",
        "dates_pre = policy + pd.to_timedelta(running_pre * 30, unit='D')  # approximate month\n",
        "dates_post = policy + pd.to_timedelta(running_post * 30, unit='D')\n",
        "\n",
        "params = ols_model.params\n",
        "\n",
        "# Predicted values using mean of control variable\n",
        "mean_pre_control = pre[\"total_crime_guns\"].mean()\n",
        "mean_post_control = post[\"total_crime_guns\"].mean()\n",
        "\n",
        "pred_pre = params[\"const\"] + params[\"running\"] * running_pre + params[\"total_crime_guns\"] * mean_pre_control\n",
        "pred_post = (params[\"const\"] + params[\"post\"] +\n",
        "             (params[\"running\"] + params[\"interaction\"]) * running_post +\n",
        "             params[\"total_crime_guns\"] * mean_post_control)\n"
      ]
    },
    {
      "cell_type": "code",
      "execution_count": null,
      "metadata": {
        "colab": {
          "base_uri": "https://localhost:8080/"
        },
        "id": "DUkJIFwXpiJd",
        "outputId": "c08e4d8f-4335-4d58-f4ff-ea8c34bfee34"
      },
      "outputs": [],
      "source": [
        "ols_model_robust = ols_model.get_robustcov_results(cov_type='HC1')\n",
        "print(ols_model_robust.summary())"
      ]
    },
    {
      "cell_type": "code",
      "execution_count": null,
      "metadata": {
        "colab": {
          "base_uri": "https://localhost:8080/",
          "height": 542
        },
        "id": "oj-dY-Q0piJe",
        "outputId": "42c236f1-770c-43cb-f1dc-7bfc4413012b"
      },
      "outputs": [],
      "source": [
        "# Graphing\n",
        "subplot_analysis = go.Figure()\n",
        "\n",
        "## Ghost Guns\n",
        "subplot_analysis.add_trace(go.Scatter(x=ca_monthly[\"year_month\"],\n",
        "                                      y=ca_monthly[\"ghost_guns\"],\n",
        "                                      name=\"Ghost Guns\",\n",
        "                                      mode=\"lines\",\n",
        "                                      showlegend=False,\n",
        "                                      line_color=\"black\"\n",
        "                                      )\n",
        "                          )\n",
        "\n",
        "### Regression Discontinuity\n",
        "subplot_analysis.add_trace(go.Scatter(x=dates_pre,\n",
        "                                      y=pred_pre,\n",
        "                                      mode='lines',\n",
        "                                      name='Pre-Policy Fitted (RD)',\n",
        "                                      line=dict(color='Tomato',width=2),\n",
        "                                     )\n",
        "                          )\n",
        "subplot_analysis.add_trace(go.Scatter(x=dates_post,\n",
        "                                      y=pred_post,\n",
        "                                      mode='lines',\n",
        "                                      name='Post-Policy Fitted (RD)',\n",
        "                                      line=dict(color='RoyalBlue',width=2),\n",
        "                                     )\n",
        "                          )\n",
        "\n",
        "\n",
        "# Aesthetics\n",
        "subplot_analysis.add_vline(x=pd.to_datetime(\"08-01-2022\"),\n",
        "                           line_width=1, line_dash=\"dot\",\n",
        "                           line_color=\"black\",\n",
        "                           )\n",
        "\n",
        "subplot_analysis.update_layout(title_text=\"Crimes Guns and Ghost Guns Recovered Monthly in California\",\n",
        "                                title_subtitle_text=\"From 2010 to 2025\",\n",
        "                                plot_bgcolor=\"White\",\n",
        "                                hoverlabel=dict(bgcolor=\"white\",\n",
        "                                                bordercolor=\"black\",\n",
        "                                                font_color=\"black\"\n",
        "                                                ),\n",
        "                                hovermode=\"x unified\",\n",
        "                                )\n",
        "\n",
        "subplot_analysis.update_xaxes(title=\"Time (Monthly)\",\n",
        "                              showline=True,\n",
        "                              linewidth=1,\n",
        "                              linecolor=\"Black\",\n",
        "                              gridcolor=\"MistyRose\",\n",
        "                              griddash=\"solid\",\n",
        "                              )\n",
        "\n",
        "subplot_analysis.update_yaxes(title=\"Total Recovered Ghost Guns\",\n",
        "                              showline=True,\n",
        "                              linewidth=1,\n",
        "                              linecolor=\"Black\",\n",
        "                              gridcolor=\"MistyRose\",\n",
        "                              griddash=\"solid\"\n",
        "                              )\n"
      ]
    }
  ],
  "metadata": {
    "colab": {
      "collapsed_sections": [
        "dNwINyqClgFk",
        "t0MR-BCVba7a",
        "eetbu0W_oGMj",
        "mt0HV9VcpTCN",
        "YSYnXs-8Gba2",
        "UOsfkyZU3eFU",
        "1wIZnA_fEhEv"
      ],
      "provenance": []
    },
    "kernelspec": {
      "display_name": "Python 3",
      "name": "python3"
    },
    "language_info": {
      "name": "python"
    }
  },
  "nbformat": 4,
  "nbformat_minor": 0
}
